{
 "cells": [
  {
   "cell_type": "code",
   "execution_count": 3,
   "metadata": {},
   "outputs": [],
   "source": [
    "import pandas as pd\n",
    "import statsmodels.formula.api as smf\n",
    "import numpy as np\n",
    "import matplotlib.pyplot as plt\n",
    "from tqdm.notebook import tqdm\n",
    "import seaborn as sns"
   ]
  },
  {
   "cell_type": "markdown",
   "metadata": {},
   "source": [
    "### Clean Data"
   ]
  },
  {
   "cell_type": "code",
   "execution_count": 2,
   "metadata": {},
   "outputs": [],
   "source": [
    "nba = pd.ExcelFile('nba.xlsx')"
   ]
  },
  {
   "cell_type": "code",
   "execution_count": 3,
   "metadata": {},
   "outputs": [
    {
     "data": {
      "text/plain": [
       "['Team Revenue - Total',\n",
       " 'Team Revenue - Ticket',\n",
       " 'Operating Income',\n",
       " 'NBA Revenue',\n",
       " 'Metro Populations',\n",
       " 'Season Data',\n",
       " 'Data Sources']"
      ]
     },
     "execution_count": 3,
     "metadata": {},
     "output_type": "execute_result"
    }
   ],
   "source": [
    "nba.sheet_names"
   ]
  },
  {
   "cell_type": "code",
   "execution_count": 4,
   "metadata": {},
   "outputs": [],
   "source": [
    "total = nba.parse('Team Revenue - Total')\n",
    "total = total.rename({'Unnamed: 0': 'Team'}, axis=1)\n",
    "total = total.set_index('Team')\n",
    "total = total.unstack().reset_index()  \n",
    "total = total.rename({'level_0': 'Year', 0: 'Total Revenue'}, axis=1)"
   ]
  },
  {
   "cell_type": "code",
   "execution_count": 5,
   "metadata": {},
   "outputs": [],
   "source": [
    "ticket = nba.parse('Team Revenue - Ticket')\n",
    "ticket = ticket.rename({'Unnamed: 0': 'Team'}, axis=1)\n",
    "ticket = ticket.set_index('Team')\n",
    "ticket = ticket.unstack().reset_index()  \n",
    "ticket = ticket.rename({'level_0': 'Year', 0: 'Ticket Revenue'}, axis=1)"
   ]
  },
  {
   "cell_type": "code",
   "execution_count": 6,
   "metadata": {},
   "outputs": [],
   "source": [
    "oi = nba.parse('Operating Income')\n",
    "oi = oi.rename({'Unnamed: 0': 'Team'}, axis=1)\n",
    "oi = oi.set_index('Team')\n",
    "oi = oi.unstack().reset_index()  \n",
    "oi = oi.rename({'level_0': 'Year', 0: 'Operating Income'}, axis=1)"
   ]
  },
  {
   "cell_type": "code",
   "execution_count": 7,
   "metadata": {},
   "outputs": [],
   "source": [
    "total = pd.merge(total, ticket)\n",
    "total = pd.merge(total, oi)"
   ]
  },
  {
   "cell_type": "code",
   "execution_count": 8,
   "metadata": {},
   "outputs": [
    {
     "data": {
      "text/html": [
       "<div>\n",
       "<style scoped>\n",
       "    .dataframe tbody tr th:only-of-type {\n",
       "        vertical-align: middle;\n",
       "    }\n",
       "\n",
       "    .dataframe tbody tr th {\n",
       "        vertical-align: top;\n",
       "    }\n",
       "\n",
       "    .dataframe thead th {\n",
       "        text-align: right;\n",
       "    }\n",
       "</style>\n",
       "<table border=\"1\" class=\"dataframe\">\n",
       "  <thead>\n",
       "    <tr style=\"text-align: right;\">\n",
       "      <th></th>\n",
       "      <th>Year</th>\n",
       "      <th>Team</th>\n",
       "      <th>Total Revenue</th>\n",
       "      <th>Ticket Revenue</th>\n",
       "      <th>Operating Income</th>\n",
       "    </tr>\n",
       "  </thead>\n",
       "  <tbody>\n",
       "    <tr>\n",
       "      <th>0</th>\n",
       "      <td>2011</td>\n",
       "      <td>Atlanta Hawks</td>\n",
       "      <td>109</td>\n",
       "      <td>26.30</td>\n",
       "      <td>-15</td>\n",
       "    </tr>\n",
       "    <tr>\n",
       "      <th>1</th>\n",
       "      <td>2011</td>\n",
       "      <td>Boston Celtics</td>\n",
       "      <td>146</td>\n",
       "      <td>52.70</td>\n",
       "      <td>8</td>\n",
       "    </tr>\n",
       "    <tr>\n",
       "      <th>2</th>\n",
       "      <td>2011</td>\n",
       "      <td>Brooklyn Nets</td>\n",
       "      <td>89</td>\n",
       "      <td>23.30</td>\n",
       "      <td>-24</td>\n",
       "    </tr>\n",
       "    <tr>\n",
       "      <th>3</th>\n",
       "      <td>2011</td>\n",
       "      <td>Charlotte Hornets</td>\n",
       "      <td>101</td>\n",
       "      <td>19.50</td>\n",
       "      <td>-26</td>\n",
       "    </tr>\n",
       "    <tr>\n",
       "      <th>4</th>\n",
       "      <td>2011</td>\n",
       "      <td>Chicago Bulls</td>\n",
       "      <td>185</td>\n",
       "      <td>59.00</td>\n",
       "      <td>59</td>\n",
       "    </tr>\n",
       "    <tr>\n",
       "      <th>...</th>\n",
       "      <td>...</td>\n",
       "      <td>...</td>\n",
       "      <td>...</td>\n",
       "      <td>...</td>\n",
       "      <td>...</td>\n",
       "    </tr>\n",
       "    <tr>\n",
       "      <th>325</th>\n",
       "      <td>2021</td>\n",
       "      <td>Sacramento Kings</td>\n",
       "      <td>192</td>\n",
       "      <td>0.00</td>\n",
       "      <td>25</td>\n",
       "    </tr>\n",
       "    <tr>\n",
       "      <th>326</th>\n",
       "      <td>2021</td>\n",
       "      <td>San Antonio Spurs</td>\n",
       "      <td>205</td>\n",
       "      <td>2.37</td>\n",
       "      <td>39</td>\n",
       "    </tr>\n",
       "    <tr>\n",
       "      <th>327</th>\n",
       "      <td>2021</td>\n",
       "      <td>Toronto Raptors</td>\n",
       "      <td>194</td>\n",
       "      <td>1.62</td>\n",
       "      <td>2</td>\n",
       "    </tr>\n",
       "    <tr>\n",
       "      <th>328</th>\n",
       "      <td>2021</td>\n",
       "      <td>Utah Jazz</td>\n",
       "      <td>262</td>\n",
       "      <td>5.33</td>\n",
       "      <td>96</td>\n",
       "    </tr>\n",
       "    <tr>\n",
       "      <th>329</th>\n",
       "      <td>2021</td>\n",
       "      <td>Washington Wizards</td>\n",
       "      <td>213</td>\n",
       "      <td>0.00</td>\n",
       "      <td>15</td>\n",
       "    </tr>\n",
       "  </tbody>\n",
       "</table>\n",
       "<p>330 rows × 5 columns</p>\n",
       "</div>"
      ],
      "text/plain": [
       "     Year                Team  Total Revenue  Ticket Revenue  Operating Income\n",
       "0    2011       Atlanta Hawks            109           26.30               -15\n",
       "1    2011      Boston Celtics            146           52.70                 8\n",
       "2    2011       Brooklyn Nets             89           23.30               -24\n",
       "3    2011   Charlotte Hornets            101           19.50               -26\n",
       "4    2011       Chicago Bulls            185           59.00                59\n",
       "..    ...                 ...            ...             ...               ...\n",
       "325  2021    Sacramento Kings            192            0.00                25\n",
       "326  2021   San Antonio Spurs            205            2.37                39\n",
       "327  2021     Toronto Raptors            194            1.62                 2\n",
       "328  2021           Utah Jazz            262            5.33                96\n",
       "329  2021  Washington Wizards            213            0.00                15\n",
       "\n",
       "[330 rows x 5 columns]"
      ]
     },
     "execution_count": 8,
     "metadata": {},
     "output_type": "execute_result"
    }
   ],
   "source": [
    "total"
   ]
  },
  {
   "cell_type": "code",
   "execution_count": 9,
   "metadata": {},
   "outputs": [],
   "source": [
    "pops = nba.parse('Metro Populations')\n",
    "pops = pops[['Team', 'Population, 2020', 'Population, 2010']]"
   ]
  },
  {
   "cell_type": "code",
   "execution_count": 10,
   "metadata": {},
   "outputs": [],
   "source": [
    "total = pd.merge(total, pops)\n",
    "total['Population'] = None\n",
    "total.loc[total['Year'] <= 2020, 'Population'] = total.loc[total['Year'] <= 2020, 'Population, 2010']\n",
    "total.loc[total['Year'] > 2020, 'Population'] = total.loc[total['Year'] > 2020, 'Population, 2020']"
   ]
  },
  {
   "cell_type": "code",
   "execution_count": 11,
   "metadata": {},
   "outputs": [],
   "source": [
    "total = total.drop(['Population, 2020', 'Population, 2010'], axis=1)"
   ]
  },
  {
   "cell_type": "code",
   "execution_count": 12,
   "metadata": {},
   "outputs": [
    {
     "data": {
      "text/html": [
       "<div>\n",
       "<style scoped>\n",
       "    .dataframe tbody tr th:only-of-type {\n",
       "        vertical-align: middle;\n",
       "    }\n",
       "\n",
       "    .dataframe tbody tr th {\n",
       "        vertical-align: top;\n",
       "    }\n",
       "\n",
       "    .dataframe thead th {\n",
       "        text-align: right;\n",
       "    }\n",
       "</style>\n",
       "<table border=\"1\" class=\"dataframe\">\n",
       "  <thead>\n",
       "    <tr style=\"text-align: right;\">\n",
       "      <th></th>\n",
       "      <th>Team</th>\n",
       "      <th>Age</th>\n",
       "      <th>W</th>\n",
       "      <th>L</th>\n",
       "      <th>Attend.</th>\n",
       "      <th>Attend./G</th>\n",
       "      <th>Playoffs</th>\n",
       "      <th>Conference Semifinals</th>\n",
       "      <th>Conference Finals</th>\n",
       "      <th>Finals</th>\n",
       "      <th>Championship</th>\n",
       "      <th>Year</th>\n",
       "    </tr>\n",
       "  </thead>\n",
       "  <tbody>\n",
       "    <tr>\n",
       "      <th>0</th>\n",
       "      <td>Orlando Magic</td>\n",
       "      <td>27.9</td>\n",
       "      <td>59</td>\n",
       "      <td>23</td>\n",
       "      <td>715901</td>\n",
       "      <td>17461</td>\n",
       "      <td>1.0</td>\n",
       "      <td>1.0</td>\n",
       "      <td>1</td>\n",
       "      <td>0</td>\n",
       "      <td>0.0</td>\n",
       "      <td>2010</td>\n",
       "    </tr>\n",
       "    <tr>\n",
       "      <th>1</th>\n",
       "      <td>Cleveland Cavaliers</td>\n",
       "      <td>28.0</td>\n",
       "      <td>61</td>\n",
       "      <td>21</td>\n",
       "      <td>843042</td>\n",
       "      <td>20562</td>\n",
       "      <td>1.0</td>\n",
       "      <td>1.0</td>\n",
       "      <td>0</td>\n",
       "      <td>0</td>\n",
       "      <td>0.0</td>\n",
       "      <td>2010</td>\n",
       "    </tr>\n",
       "    <tr>\n",
       "      <th>2</th>\n",
       "      <td>Utah Jazz</td>\n",
       "      <td>25.6</td>\n",
       "      <td>53</td>\n",
       "      <td>29</td>\n",
       "      <td>794512</td>\n",
       "      <td>19378</td>\n",
       "      <td>1.0</td>\n",
       "      <td>1.0</td>\n",
       "      <td>0</td>\n",
       "      <td>0</td>\n",
       "      <td>0.0</td>\n",
       "      <td>2010</td>\n",
       "    </tr>\n",
       "    <tr>\n",
       "      <th>3</th>\n",
       "      <td>San Antonio Spurs</td>\n",
       "      <td>28.7</td>\n",
       "      <td>50</td>\n",
       "      <td>32</td>\n",
       "      <td>741676</td>\n",
       "      <td>18090</td>\n",
       "      <td>1.0</td>\n",
       "      <td>1.0</td>\n",
       "      <td>0</td>\n",
       "      <td>0</td>\n",
       "      <td>0.0</td>\n",
       "      <td>2010</td>\n",
       "    </tr>\n",
       "    <tr>\n",
       "      <th>4</th>\n",
       "      <td>Atlanta Hawks</td>\n",
       "      <td>26.5</td>\n",
       "      <td>53</td>\n",
       "      <td>29</td>\n",
       "      <td>678375</td>\n",
       "      <td>16546</td>\n",
       "      <td>1.0</td>\n",
       "      <td>1.0</td>\n",
       "      <td>0</td>\n",
       "      <td>0</td>\n",
       "      <td>0.0</td>\n",
       "      <td>2010</td>\n",
       "    </tr>\n",
       "    <tr>\n",
       "      <th>...</th>\n",
       "      <td>...</td>\n",
       "      <td>...</td>\n",
       "      <td>...</td>\n",
       "      <td>...</td>\n",
       "      <td>...</td>\n",
       "      <td>...</td>\n",
       "      <td>...</td>\n",
       "      <td>...</td>\n",
       "      <td>...</td>\n",
       "      <td>...</td>\n",
       "      <td>...</td>\n",
       "      <td>...</td>\n",
       "    </tr>\n",
       "    <tr>\n",
       "      <th>385</th>\n",
       "      <td>Detroit Pistons</td>\n",
       "      <td>23.6</td>\n",
       "      <td>23</td>\n",
       "      <td>59</td>\n",
       "      <td>663556</td>\n",
       "      <td>16184</td>\n",
       "      <td>0.0</td>\n",
       "      <td>0.0</td>\n",
       "      <td>0</td>\n",
       "      <td>0</td>\n",
       "      <td>0.0</td>\n",
       "      <td>2022</td>\n",
       "    </tr>\n",
       "    <tr>\n",
       "      <th>386</th>\n",
       "      <td>Orlando Magic</td>\n",
       "      <td>23.3</td>\n",
       "      <td>22</td>\n",
       "      <td>60</td>\n",
       "      <td>622881</td>\n",
       "      <td>15192</td>\n",
       "      <td>0.0</td>\n",
       "      <td>0.0</td>\n",
       "      <td>0</td>\n",
       "      <td>0</td>\n",
       "      <td>0.0</td>\n",
       "      <td>2022</td>\n",
       "    </tr>\n",
       "    <tr>\n",
       "      <th>387</th>\n",
       "      <td>Oklahoma City Thunder</td>\n",
       "      <td>22.4</td>\n",
       "      <td>24</td>\n",
       "      <td>58</td>\n",
       "      <td>595112</td>\n",
       "      <td>14515</td>\n",
       "      <td>0.0</td>\n",
       "      <td>0.0</td>\n",
       "      <td>0</td>\n",
       "      <td>0</td>\n",
       "      <td>0.0</td>\n",
       "      <td>2022</td>\n",
       "    </tr>\n",
       "    <tr>\n",
       "      <th>388</th>\n",
       "      <td>Houston Rockets</td>\n",
       "      <td>24.1</td>\n",
       "      <td>20</td>\n",
       "      <td>62</td>\n",
       "      <td>638977</td>\n",
       "      <td>15585</td>\n",
       "      <td>0.0</td>\n",
       "      <td>0.0</td>\n",
       "      <td>0</td>\n",
       "      <td>0</td>\n",
       "      <td>0.0</td>\n",
       "      <td>2022</td>\n",
       "    </tr>\n",
       "    <tr>\n",
       "      <th>389</th>\n",
       "      <td>Portland Trail Blazers</td>\n",
       "      <td>25.6</td>\n",
       "      <td>27</td>\n",
       "      <td>55</td>\n",
       "      <td>705608</td>\n",
       "      <td>17210</td>\n",
       "      <td>0.0</td>\n",
       "      <td>0.0</td>\n",
       "      <td>0</td>\n",
       "      <td>0</td>\n",
       "      <td>0.0</td>\n",
       "      <td>2022</td>\n",
       "    </tr>\n",
       "  </tbody>\n",
       "</table>\n",
       "<p>390 rows × 12 columns</p>\n",
       "</div>"
      ],
      "text/plain": [
       "                       Team   Age   W   L  Attend.  Attend./G  Playoffs  \\\n",
       "0             Orlando Magic  27.9  59  23   715901      17461       1.0   \n",
       "1       Cleveland Cavaliers  28.0  61  21   843042      20562       1.0   \n",
       "2                 Utah Jazz  25.6  53  29   794512      19378       1.0   \n",
       "3         San Antonio Spurs  28.7  50  32   741676      18090       1.0   \n",
       "4             Atlanta Hawks  26.5  53  29   678375      16546       1.0   \n",
       "..                      ...   ...  ..  ..      ...        ...       ...   \n",
       "385         Detroit Pistons  23.6  23  59   663556      16184       0.0   \n",
       "386           Orlando Magic  23.3  22  60   622881      15192       0.0   \n",
       "387   Oklahoma City Thunder  22.4  24  58   595112      14515       0.0   \n",
       "388         Houston Rockets  24.1  20  62   638977      15585       0.0   \n",
       "389  Portland Trail Blazers  25.6  27  55   705608      17210       0.0   \n",
       "\n",
       "     Conference Semifinals  Conference Finals  Finals  Championship  Year  \n",
       "0                      1.0                  1       0           0.0  2010  \n",
       "1                      1.0                  0       0           0.0  2010  \n",
       "2                      1.0                  0       0           0.0  2010  \n",
       "3                      1.0                  0       0           0.0  2010  \n",
       "4                      1.0                  0       0           0.0  2010  \n",
       "..                     ...                ...     ...           ...   ...  \n",
       "385                    0.0                  0       0           0.0  2022  \n",
       "386                    0.0                  0       0           0.0  2022  \n",
       "387                    0.0                  0       0           0.0  2022  \n",
       "388                    0.0                  0       0           0.0  2022  \n",
       "389                    0.0                  0       0           0.0  2022  \n",
       "\n",
       "[390 rows x 12 columns]"
      ]
     },
     "execution_count": 12,
     "metadata": {},
     "output_type": "execute_result"
    }
   ],
   "source": [
    "seasons = nba.parse('Season Data')\n",
    "seasons"
   ]
  },
  {
   "cell_type": "code",
   "execution_count": 13,
   "metadata": {},
   "outputs": [],
   "source": [
    "data = pd.merge(total, seasons, how='left')"
   ]
  },
  {
   "cell_type": "code",
   "execution_count": 14,
   "metadata": {},
   "outputs": [],
   "source": [
    "data['Future Revenue'] = data.groupby('Team')['Total Revenue'].shift(-1)\n",
    "data['winPercent'] = data['W'] / (data['W'] + data['L'])\n",
    "data['futureWinPercent'] =  data.groupby('Team')['winPercent'].shift(-1)"
   ]
  },
  {
   "cell_type": "code",
   "execution_count": 15,
   "metadata": {},
   "outputs": [],
   "source": [
    "data = data[data['Year'] != 2021]"
   ]
  },
  {
   "cell_type": "code",
   "execution_count": 16,
   "metadata": {},
   "outputs": [],
   "source": [
    "data = data.rename({'Total Revenue': 'TR'}, axis=1)"
   ]
  },
  {
   "cell_type": "markdown",
   "metadata": {},
   "source": [
    "### Model #1 - Estimating Initial Population from Revenue"
   ]
  },
  {
   "cell_type": "code",
   "execution_count": 17,
   "metadata": {},
   "outputs": [],
   "source": [
    "data['Population'] = data['Population'].astype(float)"
   ]
  },
  {
   "cell_type": "code",
   "execution_count": 18,
   "metadata": {},
   "outputs": [],
   "source": [
    "results1 = smf.ols('TR ~ Population', data=data[data['Year']==2011]).fit()"
   ]
  },
  {
   "cell_type": "code",
   "execution_count": 19,
   "metadata": {},
   "outputs": [
    {
     "name": "stdout",
     "output_type": "stream",
     "text": [
      "                            OLS Regression Results                            \n",
      "==============================================================================\n",
      "Dep. Variable:                     TR   R-squared:                       0.223\n",
      "Model:                            OLS   Adj. R-squared:                  0.195\n",
      "Method:                 Least Squares   F-statistic:                     8.023\n",
      "Date:                Mon, 05 Dec 2022   Prob (F-statistic):            0.00846\n",
      "Time:                        14:48:34   Log-Likelihood:                -144.91\n",
      "No. Observations:                  30   AIC:                             293.8\n",
      "Df Residuals:                      28   BIC:                             296.6\n",
      "Df Model:                           1                                         \n",
      "Covariance Type:            nonrobust                                         \n",
      "==============================================================================\n",
      "                 coef    std err          t      P>|t|      [0.025      0.975]\n",
      "------------------------------------------------------------------------------\n",
      "Intercept    114.2717      8.484     13.468      0.000      96.892     131.651\n",
      "Population  3.343e-06   1.18e-06      2.833      0.008    9.25e-07    5.76e-06\n",
      "==============================================================================\n",
      "Omnibus:                        4.385   Durbin-Watson:                   2.168\n",
      "Prob(Omnibus):                  0.112   Jarque-Bera (JB):                2.860\n",
      "Skew:                          -0.507   Prob(JB):                        0.239\n",
      "Kurtosis:                       4.122   Cond. No.                     1.06e+07\n",
      "==============================================================================\n",
      "\n",
      "Warnings:\n",
      "[1] Standard Errors assume that the covariance matrix of the errors is correctly specified.\n",
      "[2] The condition number is large, 1.06e+07. This might indicate that there are\n",
      "strong multicollinearity or other numerical problems.\n"
     ]
    }
   ],
   "source": [
    "print(results1.summary())"
   ]
  },
  {
   "cell_type": "code",
   "execution_count": 20,
   "metadata": {},
   "outputs": [],
   "source": [
    "def rev2pop(x):\n",
    "    return (x - results1.params[0]) / results1.params[1]\n",
    "\n",
    "def pop2rev(x):\n",
    "    return x * results1.params[1] + results1.params[0]"
   ]
  },
  {
   "cell_type": "code",
   "execution_count": 21,
   "metadata": {},
   "outputs": [
    {
     "data": {
      "text/plain": [
       "106547254.5426164"
      ]
     },
     "execution_count": 21,
     "metadata": {},
     "output_type": "execute_result"
    }
   ],
   "source": [
    "rev2pop(pop2rev(1e6) * 4)"
   ]
  },
  {
   "cell_type": "markdown",
   "metadata": {},
   "source": [
    "### Model #2 - Updating Revenue"
   ]
  },
  {
   "cell_type": "code",
   "execution_count": 22,
   "metadata": {},
   "outputs": [],
   "source": [
    "data['FR'] = data['Future Revenue']"
   ]
  },
  {
   "cell_type": "code",
   "execution_count": 23,
   "metadata": {},
   "outputs": [],
   "source": [
    "def logit(x):\n",
    "    return np.log(x / (1-x))\n",
    "\n",
    "def inverse_logit(x):\n",
    "    return np.exp(x) / (1 + np.exp(x))\n",
    "\n",
    "def indicator_clip(x, epsilon=1e-5):\n",
    "    x = np.where(x == 1, x-epsilon, x)\n",
    "    x = np.where(x == 0, epsilon, x)\n",
    "    return x"
   ]
  },
  {
   "cell_type": "code",
   "execution_count": 24,
   "metadata": {},
   "outputs": [],
   "source": [
    "data['transformedWinPercent'] = logit(data['winPercent'])"
   ]
  },
  {
   "cell_type": "code",
   "execution_count": 25,
   "metadata": {},
   "outputs": [],
   "source": [
    "results2 = smf.ols('FR ~ Championship + transformedWinPercent + TR + Population', data=data).fit()"
   ]
  },
  {
   "cell_type": "code",
   "execution_count": 26,
   "metadata": {},
   "outputs": [
    {
     "name": "stdout",
     "output_type": "stream",
     "text": [
      "                            OLS Regression Results                            \n",
      "==============================================================================\n",
      "Dep. Variable:                     FR   R-squared:                       0.813\n",
      "Model:                            OLS   Adj. R-squared:                  0.811\n",
      "Method:                 Least Squares   F-statistic:                     320.1\n",
      "Date:                Mon, 05 Dec 2022   Prob (F-statistic):          8.92e-106\n",
      "Time:                        14:48:36   Log-Likelihood:                -1459.3\n",
      "No. Observations:                 299   AIC:                             2929.\n",
      "Df Residuals:                     294   BIC:                             2947.\n",
      "Df Model:                           4                                         \n",
      "Covariance Type:            nonrobust                                         \n",
      "=========================================================================================\n",
      "                            coef    std err          t      P>|t|      [0.025      0.975]\n",
      "-----------------------------------------------------------------------------------------\n",
      "Intercept                37.3545      5.184      7.206      0.000      27.153      47.556\n",
      "Championship              5.8283     10.940      0.533      0.595     -15.702      27.359\n",
      "transformedWinPercent     4.9318      2.939      1.678      0.094      -0.852      10.715\n",
      "TR                        0.8204      0.027     30.657      0.000       0.768       0.873\n",
      "Population             1.273e-06   4.22e-07      3.015      0.003    4.42e-07     2.1e-06\n",
      "==============================================================================\n",
      "Omnibus:                       29.119   Durbin-Watson:                   1.373\n",
      "Prob(Omnibus):                  0.000   Jarque-Bera (JB):               77.297\n",
      "Skew:                          -0.422   Prob(JB):                     1.64e-17\n",
      "Kurtosis:                       5.344   Cond. No.                     4.25e+07\n",
      "==============================================================================\n",
      "\n",
      "Warnings:\n",
      "[1] Standard Errors assume that the covariance matrix of the errors is correctly specified.\n",
      "[2] The condition number is large, 4.25e+07. This might indicate that there are\n",
      "strong multicollinearity or other numerical problems.\n"
     ]
    }
   ],
   "source": [
    "print(results2.summary())"
   ]
  },
  {
   "cell_type": "code",
   "execution_count": 27,
   "metadata": {},
   "outputs": [],
   "source": [
    "def update_revenue(champ, twp, tr, pop):\n",
    "    return results2.params[0] +\\\n",
    "        results2.params[1] * champ +\\\n",
    "        results2.params[2] * twp +\\\n",
    "        results2.params[3] * tr +\\\n",
    "        results2.params[4] * pop"
   ]
  },
  {
   "cell_type": "markdown",
   "metadata": {},
   "source": [
    "### Model #2 - Updating Win Percentage"
   ]
  },
  {
   "cell_type": "code",
   "execution_count": 28,
   "metadata": {},
   "outputs": [],
   "source": [
    "def elo(wp, te, p, beta=100):\n",
    "    return p * wp + (1-p) / (1 + np.power(10, -te / beta))"
   ]
  },
  {
   "cell_type": "markdown",
   "metadata": {},
   "source": [
    "### Historical Data"
   ]
  },
  {
   "cell_type": "code",
   "execution_count": 29,
   "metadata": {},
   "outputs": [
    {
     "data": {
      "text/plain": [
       "(474, 19567410.0)"
      ]
     },
     "execution_count": 29,
     "metadata": {},
     "output_type": "execute_result"
    }
   ],
   "source": [
    "data['TR'].max(), data['Population'].max()"
   ]
  },
  {
   "cell_type": "code",
   "execution_count": 30,
   "metadata": {},
   "outputs": [
    {
     "data": {
      "text/plain": [
       "(78, 1124197.0)"
      ]
     },
     "execution_count": 30,
     "metadata": {},
     "output_type": "execute_result"
    }
   ],
   "source": [
    "data['TR'].min(), data['Population'].min()"
   ]
  },
  {
   "cell_type": "code",
   "execution_count": 31,
   "metadata": {},
   "outputs": [
    {
     "data": {
      "text/plain": [
       "Year\n",
       "2011    2.741573\n",
       "2012    3.115385\n",
       "2013    2.706422\n",
       "2014    2.663636\n",
       "2015    2.475806\n",
       "2016    2.685714\n",
       "2017    2.379888\n",
       "2018    2.171569\n",
       "2019    2.107143\n",
       "2020    2.267943\n",
       "Name: TR, dtype: float64"
      ]
     },
     "execution_count": 31,
     "metadata": {},
     "output_type": "execute_result"
    }
   ],
   "source": [
    "data.groupby('Year')['TR'].max() / data.groupby('Year')['TR'].min()"
   ]
  },
  {
   "cell_type": "markdown",
   "metadata": {},
   "source": [
    "### Running Simulations - Constant Tax Rate"
   ]
  },
  {
   "cell_type": "code",
   "execution_count": 32,
   "metadata": {},
   "outputs": [],
   "source": [
    "nteams = 2\n",
    "nsims = 100\n",
    "nseasons = 30\n",
    "ngames = 82"
   ]
  },
  {
   "cell_type": "code",
   "execution_count": 4,
   "metadata": {},
   "outputs": [],
   "source": [
    "ps = np.array([0, 0.01, 0.05, 0.1, 0.25, 0.5, 0.6, 0.7, 0.75, 0.8, 0.85, 0.9, 0.95, 0.975, 0.99, 1])"
   ]
  },
  {
   "cell_type": "code",
   "execution_count": 5,
   "metadata": {},
   "outputs": [],
   "source": [
    "step2 = 0.5\n",
    "ratios = np.arange(1, 4 + step2, step2)"
   ]
  },
  {
   "cell_type": "code",
   "execution_count": 6,
   "metadata": {},
   "outputs": [],
   "source": [
    "step3 = 0.25\n",
    "taxes = np.arange(0, 5 + step3, step3)"
   ]
  },
  {
   "cell_type": "code",
   "execution_count": 7,
   "metadata": {},
   "outputs": [],
   "source": [
    "step4 = 10\n",
    "caps = np.arange(100, 800 + step4, step4)"
   ]
  },
  {
   "cell_type": "code",
   "execution_count": 37,
   "metadata": {},
   "outputs": [],
   "source": [
    "def luxury_tax(spending, rate, cap):\n",
    "    return rate * np.maximum(0, spending-cap)\n",
    "\n",
    "def calculate_spending(capital, rate, cap):\n",
    "    return np.where(capital > cap, (capital + rate * cap) / (1 + rate), capital)"
   ]
  },
  {
   "cell_type": "code",
   "execution_count": 38,
   "metadata": {},
   "outputs": [],
   "source": [
    "base_pop = 1e6\n",
    "base_capital = pop2rev(base_pop)"
   ]
  },
  {
   "cell_type": "code",
   "execution_count": 8,
   "metadata": {},
   "outputs": [
    {
     "data": {
      "text/plain": [
       "166992"
      ]
     },
     "execution_count": 8,
     "metadata": {},
     "output_type": "execute_result"
    }
   ],
   "source": [
    "len(ps) * len(ratios) * len(taxes) * len(caps)"
   ]
  },
  {
   "cell_type": "code",
   "execution_count": 42,
   "metadata": {},
   "outputs": [
    {
     "data": {
      "text/plain": [
       "(16, 7, 21, 71)"
      ]
     },
     "execution_count": 42,
     "metadata": {},
     "output_type": "execute_result"
    }
   ],
   "source": [
    "len(ps), len(ratios), len(taxes), len(caps)"
   ]
  },
  {
   "cell_type": "code",
   "execution_count": 46,
   "metadata": {},
   "outputs": [],
   "source": [
    "results_shape = (len(ratios), len(ps), len(taxes), len(caps), nteams, nsims, nseasons)\n",
    "capital = np.zeros(results_shape)\n",
    "pop = np.zeros(results_shape)\n",
    "spending = np.zeros(results_shape)\n",
    "probs = np.zeros(results_shape)\n",
    "wins = np.zeros(results_shape)\n",
    "champs = np.zeros(results_shape)\n",
    "tp = np.zeros((len(ratios), len(ps), len(taxes), len(caps), nsims))"
   ]
  },
  {
   "cell_type": "code",
   "execution_count": 47,
   "metadata": {},
   "outputs": [
    {
     "data": {
      "application/vnd.jupyter.widget-view+json": {
       "model_id": "44febe19280d4af6b4d619e03ecad30a",
       "version_major": 2,
       "version_minor": 0
      },
      "text/plain": [
       "  0%|          | 0/7 [00:00<?, ?it/s]"
      ]
     },
     "metadata": {},
     "output_type": "display_data"
    },
    {
     "data": {
      "application/vnd.jupyter.widget-view+json": {
       "model_id": "a77e45a1c2244e49ad650e765011b81f",
       "version_major": 2,
       "version_minor": 0
      },
      "text/plain": [
       "  0%|          | 0/16 [00:00<?, ?it/s]"
      ]
     },
     "metadata": {},
     "output_type": "display_data"
    },
    {
     "data": {
      "application/vnd.jupyter.widget-view+json": {
       "model_id": "304c41028405449db34ccec1cd4a1b17",
       "version_major": 2,
       "version_minor": 0
      },
      "text/plain": [
       "  0%|          | 0/16 [00:00<?, ?it/s]"
      ]
     },
     "metadata": {},
     "output_type": "display_data"
    },
    {
     "data": {
      "application/vnd.jupyter.widget-view+json": {
       "model_id": "c5f91edeca7d49a2bc7e80413b1ee0bb",
       "version_major": 2,
       "version_minor": 0
      },
      "text/plain": [
       "  0%|          | 0/16 [00:00<?, ?it/s]"
      ]
     },
     "metadata": {},
     "output_type": "display_data"
    },
    {
     "data": {
      "application/vnd.jupyter.widget-view+json": {
       "model_id": "6f2a740291cd4dba89f25ef2332a5428",
       "version_major": 2,
       "version_minor": 0
      },
      "text/plain": [
       "  0%|          | 0/16 [00:00<?, ?it/s]"
      ]
     },
     "metadata": {},
     "output_type": "display_data"
    },
    {
     "data": {
      "application/vnd.jupyter.widget-view+json": {
       "model_id": "65d7f6949ff24e0e9788edd20bb12da0",
       "version_major": 2,
       "version_minor": 0
      },
      "text/plain": [
       "  0%|          | 0/16 [00:00<?, ?it/s]"
      ]
     },
     "metadata": {},
     "output_type": "display_data"
    },
    {
     "data": {
      "application/vnd.jupyter.widget-view+json": {
       "model_id": "3d45a20a0c3f4c3ca31c8572bc003faa",
       "version_major": 2,
       "version_minor": 0
      },
      "text/plain": [
       "  0%|          | 0/16 [00:00<?, ?it/s]"
      ]
     },
     "metadata": {},
     "output_type": "display_data"
    },
    {
     "data": {
      "application/vnd.jupyter.widget-view+json": {
       "model_id": "0d955cd673f948b493a7771dd06d239c",
       "version_major": 2,
       "version_minor": 0
      },
      "text/plain": [
       "  0%|          | 0/16 [00:00<?, ?it/s]"
      ]
     },
     "metadata": {},
     "output_type": "display_data"
    }
   ],
   "source": [
    "for r in tqdm(range(len(ratios))):\n",
    "    \n",
    "    init_capital = np.array([base_capital, ratios[r] * base_capital])\n",
    "    init_pop = np.array([base_pop, rev2pop(ratios[r] * base_capital)])\n",
    "    \n",
    "    for p in tqdm(range(len(ps))):\n",
    "        for t in range(len(taxes)):\n",
    "            for c in range(len(caps)):\n",
    "\n",
    "                # set initial capital and win probabilities\n",
    "                capital[r, p, t, c, :, :, 0] = np.repeat(init_capital[:, np.newaxis], nsims, axis=1)\n",
    "                probs[r, p, t, c, :, :, 0] = 0.5\n",
    "\n",
    "                for s in range(nseasons):\n",
    "\n",
    "                    # set population as constant\n",
    "                    pop[r, p, t, c, :, :, s] = np.repeat(init_pop[:, np.newaxis], nsims, axis=1)\n",
    "\n",
    "                    # calculate spending\n",
    "                    spending[r, p, t, c, :, :, s]= calculate_spending(capital[r, p, t, c, :, :, s],\n",
    "                                                                      taxes[t],\n",
    "                                                                      caps[c])\n",
    "                    \n",
    "                    #calculate taxes\n",
    "                    tp[r, p, t, c, :] += (capital[r, p, t, c, 0, :, s] - spending[r, p, t, c, 0, :, s])\n",
    "                    tp[r, p, t, c, :] += (capital[r, p, t, c, 1, :, s] - spending[r, p, t, c, 1, :, s])\n",
    "\n",
    "                    # calculate regular season wins\n",
    "                    wins[r, p, t, c, 0, :, s] = np.random.binomial(ngames, probs[r, p, t, c, 0, :, s])\n",
    "                    wins[r, p, t, c, 1, :, s] = ngames - wins[r, p, t, c, 0, :, s]\n",
    "\n",
    "                    # calculate championship winner\n",
    "                    winners = np.random.binomial(1, wins[r, p, t, c, :, :, s].max(0) / ngames)\n",
    "                    winners = np.repeat(winners[np.newaxis, :], nteams, axis=0)\n",
    "                    favorites = wins[r, p, t, c, :, :, s] == wins[r, p, t, c, :, :, s].max(0)\n",
    "                    champs[r, p, t, c, :, :, s] = np.where(favorites, winners, 1-winners)\n",
    "\n",
    "                    if s < nseasons - 1:\n",
    "                        update = update_revenue(champs[r, p, t, c, :, :, s],\n",
    "                                                logit(indicator_clip(wins[r, p, t, c, :, :, s] / ngames)),\n",
    "                                                capital[r, p, t, c, :, :, s],\n",
    "                                                pop[r, p, t, c, :, :, s])\n",
    "                        capital[r, p, t, c, :, :, s+1] = update\n",
    "                        te = (spending[r, p, t, c, :, :, s] - spending[r, p, t, c, :, :, s].mean(0))\n",
    "                        probs[r, p, t, c, :, :, s+1] = elo(probs[r, p, t, c, :, :, s], te, p=ps[p])"
   ]
  },
  {
   "cell_type": "code",
   "execution_count": 48,
   "metadata": {},
   "outputs": [],
   "source": [
    "parity = champs[:, :, :, :, 0, :, :].sum(-1).mean(-1)"
   ]
  },
  {
   "cell_type": "code",
   "execution_count": 54,
   "metadata": {},
   "outputs": [],
   "source": [
    "#effect of parameters on baseline parity\n",
    "fig, axs = plt.subplots(nrows=1, ncols=1)\n",
    "sns.set(rc={'figure.figsize':(10, 10)})\n",
    "ax = sns.heatmap(parity.min(-1).min(-1), annot=True, ax=axs)\n",
    "ax.set(xlabel='q', ylabel='Ratio')\n",
    "ax.set_xticklabels(np.round(ps, decimals=3))\n",
    "ax.set_yticklabels(ratios)\n",
    "plt.savefig('baseline_parity.png')\n",
    "plt.close(fig)"
   ]
  },
  {
   "cell_type": "code",
   "execution_count": 126,
   "metadata": {},
   "outputs": [],
   "source": [
    "sns.set(rc={'figure.figsize':(len(ps)*len(caps)*(2/3), len(ratios)*len(taxes)*(2/3))})"
   ]
  },
  {
   "cell_type": "code",
   "execution_count": 56,
   "metadata": {},
   "outputs": [],
   "source": [
    "fig, axs = plt.subplots(nrows=len(ratios), ncols=len(ps))\n",
    "\n",
    "for r in range(len(ratios)):\n",
    "    for p in range(len(ps)):\n",
    "        temp_mean = parity[r, p, :, :].mean()\n",
    "        temp_std = parity[r, p, :, :].std()\n",
    "        temp_plot = (parity[r, p, :, :] - temp_mean) / temp_std\n",
    "        ax = sns.heatmap(temp_plot, annot=False, ax=axs[r, p])\n",
    "        ax.set(xlabel='Caps', ylabel='Taxes', title=f'Ratio: {ratios[r]}, q: {np.round(ps[p], decimals=3)}, mean: {np.round(temp_mean, decimals=1)}, std: {np.round(temp_std, decimals=1)}')\n",
    "        ax.set_xticklabels(caps)\n",
    "        ax.set_yticklabels(taxes)\n",
    "        extent = ax.get_window_extent().transformed(fig.dpi_scale_trans.inverted())\n",
    "        fig.savefig(f'parity/parity_{ratios[r]}_{np.round(ps[p], decimals=3)}.png',\n",
    "                    bbox_inches=extent.expanded(1.4, 1.2))\n",
    "plt.close(fig)"
   ]
  },
  {
   "cell_type": "code",
   "execution_count": 57,
   "metadata": {},
   "outputs": [],
   "source": [
    "total_tp = tp.mean(-1)"
   ]
  },
  {
   "cell_type": "code",
   "execution_count": 60,
   "metadata": {},
   "outputs": [],
   "source": [
    "fig, axs = plt.subplots(nrows=len(ratios), ncols=len(ps))\n",
    "\n",
    "for r in range(len(ratios)):\n",
    "    for p in range(len(ps)):\n",
    "        temp_mean = total_tp[r, p, :, :].mean()\n",
    "        temp_std = total_tp[r, p, :, :].std()\n",
    "        temp_plot = (total_tp[r, p, :, :] - temp_mean) / temp_std\n",
    "        ax = sns.heatmap(temp_plot, annot=False, ax=axs[r, p])\n",
    "        ax.set(xlabel='Caps', ylabel='Taxes', title=f'Ratio: {ratios[r]}, q: {np.round(ps[p], decimals=3)}, mean: {np.round(temp_mean, decimals=1)}, std: {np.round(temp_std, decimals=1)}')\n",
    "        ax.set_xticklabels(caps)\n",
    "        ax.set_yticklabels(taxes)\n",
    "        extent = ax.get_window_extent().transformed(fig.dpi_scale_trans.inverted())\n",
    "        fig.savefig(f'taxes/tp_{ratios[r]}_{np.round(ps[p], decimals=3)}.png',\n",
    "                    bbox_inches=extent.expanded(1.4, 1.2))\n",
    "plt.close(fig)"
   ]
  },
  {
   "cell_type": "code",
   "execution_count": 61,
   "metadata": {},
   "outputs": [],
   "source": [
    "baseline = parity.min(-1).min(-1)\n",
    "expanded_baseline = np.repeat(baseline[:, :, np.newaxis], len(taxes), axis=-1)\n",
    "expanded_baseline = np.repeat(expanded_baseline[:, :, :, np.newaxis], len(caps), axis=-1)"
   ]
  },
  {
   "cell_type": "code",
   "execution_count": 62,
   "metadata": {},
   "outputs": [
    {
     "name": "stderr",
     "output_type": "stream",
     "text": [
      "/Users/matthewsmith/opt/anaconda3/lib/python3.7/site-packages/ipykernel_launcher.py:1: RuntimeWarning: divide by zero encountered in true_divide\n",
      "  \"\"\"Entry point for launching an IPython kernel.\n",
      "/Users/matthewsmith/opt/anaconda3/lib/python3.7/site-packages/ipykernel_launcher.py:1: RuntimeWarning: invalid value encountered in true_divide\n",
      "  \"\"\"Entry point for launching an IPython kernel.\n"
     ]
    }
   ],
   "source": [
    "obj = (parity - expanded_baseline) / total_tp"
   ]
  },
  {
   "cell_type": "code",
   "execution_count": 63,
   "metadata": {},
   "outputs": [],
   "source": [
    "obj = obj[1:, :-1, 1:, :]\n",
    "obj = np.where(obj == np.inf, 0, obj)\n",
    "obj = np.where(obj == -np.inf, 0, obj)\n",
    "obj = np.nan_to_num(obj)"
   ]
  },
  {
   "cell_type": "code",
   "execution_count": 67,
   "metadata": {},
   "outputs": [],
   "source": [
    "fig, axs = plt.subplots(nrows=len(ratios)-1, ncols=len(ps)-1)\n",
    "\n",
    "for r in range(1, len(ratios)):\n",
    "    for p in range(len(ps)-1):  \n",
    "        temp_mean = obj[r-1, p, :, :].mean()\n",
    "        temp_std = obj[r-1, p, :, :].std()\n",
    "        temp_plot = (obj[r-1, p, :, :] - temp_mean) / temp_std\n",
    "        ax = sns.heatmap(temp_plot, annot=False, ax=axs[r-1, p])\n",
    "        ax.set(xlabel='Caps', ylabel='Taxes', title=f'Ratio: {ratios[r]}, q: {np.round(ps[p], decimals=3)}, mean: {np.round(temp_mean, decimals=1)}, std: {np.round(temp_std, decimals=1)}')\n",
    "        ax.set_xticklabels(caps)\n",
    "        ax.set_yticklabels(taxes[1:])\n",
    "        extent = ax.get_window_extent().transformed(fig.dpi_scale_trans.inverted())\n",
    "        fig.savefig(f'objective/obj_{ratios[r]}_{np.round(ps[p], decimals=3)}.png',\n",
    "                    bbox_inches=extent.expanded(1.4, 1.2))\n",
    "plt.close(fig)"
   ]
  },
  {
   "cell_type": "code",
   "execution_count": 146,
   "metadata": {},
   "outputs": [],
   "source": [
    "sns.set(rc={'figure.figsize':(20, 20)})"
   ]
  },
  {
   "cell_type": "code",
   "execution_count": 143,
   "metadata": {},
   "outputs": [
    {
     "data": {
      "text/plain": [
       "(265.99267075815396, -100.15747405570632)"
      ]
     },
     "execution_count": 143,
     "metadata": {},
     "output_type": "execute_result"
    }
   ],
   "source": [
    "capital[:, :, 0, 0, 0, :, :].max(), capital[:, :, 0, 0, 0, :, :].min()"
   ]
  },
  {
   "cell_type": "code",
   "execution_count": 147,
   "metadata": {},
   "outputs": [],
   "source": [
    "# how revenue changes for small market team\n",
    "for r in range(len(ratios)):\n",
    "    for p in range(len(ps)):\n",
    "        \n",
    "        fig = plt.figure()\n",
    "\n",
    "        for i in range(nsims):\n",
    "            plt.plot(range(nseasons), capital[r, p, 0, 0, 0, i, :])\n",
    "\n",
    "        plt.title(f'Ratio: {ratios[r]}, q: {np.round(ps[p], decimals=3)}')\n",
    "        plt.ylabel('Revenue - Small Market Team')\n",
    "        plt.xlabel('Season')\n",
    "        plt.ylim([-150, 300])\n",
    "            \n",
    "        fig.savefig(f'capital_small/rev_{ratios[r]}_{np.round(ps[p], decimals=3)}.png')\n",
    "            \n",
    "        plt.close(fig)"
   ]
  },
  {
   "cell_type": "code",
   "execution_count": 148,
   "metadata": {},
   "outputs": [
    {
     "data": {
      "text/plain": [
       "(1308.7761249674918, 117.61464801446984)"
      ]
     },
     "execution_count": 148,
     "metadata": {},
     "output_type": "execute_result"
    }
   ],
   "source": [
    "capital[:, :, 0, 0, 1, :, :].max(), capital[:, :, 0, 0, 1, :, :].min()"
   ]
  },
  {
   "cell_type": "code",
   "execution_count": 149,
   "metadata": {},
   "outputs": [],
   "source": [
    "# how revenue changes for large market team\n",
    "for r in range(len(ratios)):\n",
    "    for p in range(len(ps)):\n",
    "        \n",
    "        fig = plt.figure()\n",
    "\n",
    "        for i in range(nsims):\n",
    "            plt.plot(range(nseasons), capital[r, p, 0, 0, 1, i, :])\n",
    "\n",
    "        plt.title(f'Ratio: {ratios[r]}, q: {np.round(ps[p], decimals=3)}')\n",
    "        plt.ylabel('Revenue - Large Market Team')\n",
    "        plt.xlabel('Season')\n",
    "        plt.ylim([50, 1350])\n",
    "            \n",
    "        fig.savefig(f'capital_large/rev_{ratios[r]}_{np.round(ps[p], decimals=3)}.png')\n",
    "            \n",
    "        plt.close(fig)"
   ]
  },
  {
   "cell_type": "code",
   "execution_count": 68,
   "metadata": {},
   "outputs": [
    {
     "data": {
      "text/plain": [
       "106547254.5426164"
      ]
     },
     "execution_count": 68,
     "metadata": {},
     "output_type": "execute_result"
    }
   ],
   "source": [
    "rev2pop(4 * base_capital)"
   ]
  },
  {
   "cell_type": "code",
   "execution_count": 108,
   "metadata": {},
   "outputs": [],
   "source": [
    "expanded_caps = np.repeat(caps[np.newaxis, :], len(taxes)-1, axis=0)\n",
    "expanded_caps = np.repeat(expanded_caps[np.newaxis, :, :], len(ps)-1, axis=0)\n",
    "expanded_caps = np.repeat(expanded_caps[np.newaxis, :, :, :], len(ratios)-1, axis=0)"
   ]
  },
  {
   "cell_type": "code",
   "execution_count": 109,
   "metadata": {},
   "outputs": [],
   "source": [
    "expanded_max = np.max(obj, axis=(2, 3))\n",
    "expanded_max = np.repeat(expanded_max[:, :, np.newaxis], len(taxes)-1, axis=-1)\n",
    "expanded_max = np.repeat(expanded_max[:, :, :, np.newaxis], len(caps), axis=-1)"
   ]
  },
  {
   "cell_type": "code",
   "execution_count": 112,
   "metadata": {},
   "outputs": [],
   "source": [
    "optimal_caps = expanded_caps[obj == expanded_max].reshape((len(ratios)-1, len(ps)-1))"
   ]
  },
  {
   "cell_type": "code",
   "execution_count": 152,
   "metadata": {},
   "outputs": [],
   "source": [
    "sns.set(rc={'figure.figsize':(20, 10)})\n",
    "\n",
    "fig, axs = plt.subplots(nrows=1, ncols=1)\n",
    "ax = sns.heatmap(optimal_caps, annot=True, ax=axs)\n",
    "ax.set_xticklabels(ps[:-1])\n",
    "ax.set_yticklabels(ratios[1:])\n",
    "ax.set(xlabel='q', ylabel='Ratio')\n",
    "plt.savefig('optimal_cap.png')\n",
    "plt.close(fig)"
   ]
  },
  {
   "cell_type": "code",
   "execution_count": null,
   "metadata": {},
   "outputs": [],
   "source": []
  }
 ],
 "metadata": {
  "kernelspec": {
   "display_name": "Python 3",
   "language": "python",
   "name": "python3"
  },
  "language_info": {
   "codemirror_mode": {
    "name": "ipython",
    "version": 3
   },
   "file_extension": ".py",
   "mimetype": "text/x-python",
   "name": "python",
   "nbconvert_exporter": "python",
   "pygments_lexer": "ipython3",
   "version": "3.7.6"
  }
 },
 "nbformat": 4,
 "nbformat_minor": 4
}
